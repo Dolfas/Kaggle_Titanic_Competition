{
 "cells": [
  {
   "cell_type": "markdown",
   "metadata": {},
   "source": [
    "***Kaggle Titanic Competition***"
   ]
  },
  {
   "cell_type": "code",
   "execution_count": 325,
   "metadata": {},
   "outputs": [],
   "source": [
    "from sklearn.model_selection import cross_val_score\n",
    "from sklearn.model_selection import GridSearchCV\n",
    "import matplotlib.pyplot as plt\n",
    "import pandas as pd\n",
    "from keras import *\n",
    "import numpy as np \n",
    "import os as os\n",
    "import keras"
   ]
  },
  {
   "cell_type": "code",
   "execution_count": 5,
   "metadata": {},
   "outputs": [],
   "source": [
    "#read the csv files\n",
    "train_df = pd.read_csv(os.path.abspath('train.csv'))  \n",
    "test_df = pd.read_csv(os.path.abspath('test.csv'))  "
   ]
  },
  {
   "cell_type": "code",
   "execution_count": 319,
   "metadata": {},
   "outputs": [
    {
     "name": "stdout",
     "output_type": "stream",
     "text": [
      "Survived    0\n",
      "Pclass      0\n",
      "Sex         0\n",
      "Age         0\n",
      "SibSp       0\n",
      "Parch       0\n",
      "Fare        0\n",
      "dtype: int64\n",
      "\n",
      "\n",
      "Pclass\n",
      "Age\n",
      "SibSp\n",
      "Parch\n",
      "Fare\n",
      "Sex_male\n",
      "Number of Samples in x_train:  714\n",
      "Number of features in x_train:  6\n"
     ]
    }
   ],
   "source": [
    "# X_train\n",
    "\n",
    "train_df2= train_df.drop(['PassengerId','Name','Ticket','Cabin','Embarked'], axis=1)\n",
    "train_df2.dropna(axis = 0, inplace=True)\n",
    "\n",
    "#Number of NaN's to check if the previous step was correct\n",
    "nan_count = train_df2.isna().sum()\n",
    "print(nan_count)\n",
    "print('\\n')\n",
    "y_train = train_df2.iloc[:,0] #true outcomes\n",
    "x_train = train_df2.drop(['Survived'],axis=1) # features\n",
    "\n",
    "x_train = pd.get_dummies(x_train, columns=['Sex'], drop_first=True,dtype=float)\n",
    "x_train.iloc[:,0] = x_train.iloc[:,0].astype(float)\n",
    "#y_train = pd.get_dummies(y_train, dtype=float)\n",
    "x_train.iloc[:,1] = x_train.iloc[:,1]/np.max(x_train.iloc[:,1])\n",
    "x_train.iloc[:,0] = x_train.iloc[:,0]/3 #third class \n",
    "x_train.iloc[:,4] = x_train.iloc[:,4]/np.max(x_train.iloc[:,4]) #third class \n",
    "\n",
    "\n",
    "for col in x_train.columns:\n",
    "    print(col)\n",
    "\n",
    "print('Number of Samples in x_train: ', len(x_train))\n",
    "print('Number of features in x_train: ', len(x_train.columns))"
   ]
  },
  {
   "cell_type": "code",
   "execution_count": 317,
   "metadata": {},
   "outputs": [
    {
     "name": "stdout",
     "output_type": "stream",
     "text": [
      "Number of Samples in x_test:  418\n"
     ]
    }
   ],
   "source": [
    "# X_test\n",
    "\n",
    "teste_df2= test_df.drop(['PassengerId','Name','Ticket','Cabin','Embarked'], axis=1)\n",
    "values={'Age':np.mean(teste_df2.iloc[:,2]),'Fare':np.mean(teste_df2.iloc[:,5]) }\n",
    "teste_df2 = teste_df2.fillna(value=values)\n",
    "passengerID = test_df.iloc[:,0]\n",
    "\n",
    "#Number of NaN's to check if the previous step was correct\n",
    "#nan_count = teste_df2.isna().sum()\n",
    "#print(nan_count)\n",
    "#print('\\n')\n",
    "\n",
    "x_test = teste_df2 # features\n",
    "#for col in x_test.columns:\n",
    " #   print(col)\n",
    "x_test = pd.get_dummies(x_test, columns=['Sex'], drop_first=True,dtype=float)\n",
    "x_test.iloc[:,0] = x_test.iloc[:,0].astype(float)\n",
    "x_test.iloc[:,1] = x_test.iloc[:,1]/np.max(x_test.iloc[:,1])\n",
    "x_test.iloc[:,0] = x_test.iloc[:,0]/3 #third class \n",
    "x_test.iloc[:,4] = x_test.iloc[:,4]/np.max(x_test.iloc[:,4])\n",
    "\n",
    "print('Number of Samples in x_test: ', len(x_test))"
   ]
  },
  {
   "cell_type": "markdown",
   "metadata": {},
   "source": [
    "**Random Forest**"
   ]
  },
  {
   "cell_type": "code",
   "execution_count": 335,
   "metadata": {},
   "outputs": [
    {
     "name": "stderr",
     "output_type": "stream",
     "text": [
      "c:\\Users\\rodol\\AppData\\Local\\Programs\\Python\\Python39\\lib\\site-packages\\sklearn\\model_selection\\_validation.py:425: FitFailedWarning: \n",
      "45 fits failed out of a total of 135.\n",
      "The score on these train-test partitions for these parameters will be set to nan.\n",
      "If these failures are not expected, you can try to debug them by setting error_score='raise'.\n",
      "\n",
      "Below are more details about the failures:\n",
      "--------------------------------------------------------------------------------\n",
      "45 fits failed with the following error:\n",
      "Traceback (most recent call last):\n",
      "  File \"c:\\Users\\rodol\\AppData\\Local\\Programs\\Python\\Python39\\lib\\site-packages\\sklearn\\model_selection\\_validation.py\", line 732, in _fit_and_score\n",
      "    estimator.fit(X_train, y_train, **fit_params)\n",
      "  File \"c:\\Users\\rodol\\AppData\\Local\\Programs\\Python\\Python39\\lib\\site-packages\\sklearn\\base.py\", line 1144, in wrapper\n",
      "    estimator._validate_params()\n",
      "  File \"c:\\Users\\rodol\\AppData\\Local\\Programs\\Python\\Python39\\lib\\site-packages\\sklearn\\base.py\", line 637, in _validate_params\n",
      "    validate_parameter_constraints(\n",
      "  File \"c:\\Users\\rodol\\AppData\\Local\\Programs\\Python\\Python39\\lib\\site-packages\\sklearn\\utils\\_param_validation.py\", line 95, in validate_parameter_constraints\n",
      "    raise InvalidParameterError(\n",
      "sklearn.utils._param_validation.InvalidParameterError: The 'max_features' parameter of RandomForestClassifier must be an int in the range [1, inf), a float in the range (0.0, 1.0], a str among {'log2', 'sqrt'} or None. Got 'auto' instead.\n",
      "\n",
      "  warnings.warn(some_fits_failed_message, FitFailedWarning)\n",
      "c:\\Users\\rodol\\AppData\\Local\\Programs\\Python\\Python39\\lib\\site-packages\\sklearn\\model_selection\\_search.py:976: UserWarning: One or more of the test scores are non-finite: [       nan 0.81520733 0.81520733        nan 0.82220033 0.82220033\n",
      "        nan 0.82220033 0.82220033        nan 0.82220033 0.82220033\n",
      "        nan 0.82080173 0.82080173        nan 0.81799468 0.81799468\n",
      "        nan 0.82220033 0.82220033        nan 0.82080173 0.82080173\n",
      "        nan 0.81799468 0.81799468]\n",
      "  warnings.warn(\n"
     ]
    },
    {
     "data": {
      "text/plain": [
       "{'criterion': 'gini',\n",
       " 'max_depth': 9,\n",
       " 'max_features': 'sqrt',\n",
       " 'n_estimators': 200}"
      ]
     },
     "execution_count": 335,
     "metadata": {},
     "output_type": "execute_result"
    }
   ],
   "source": [
    "from sklearn.ensemble import RandomForestClassifier\n",
    "\n",
    "param_grid = { \n",
    "    'n_estimators': [200],\n",
    "    'max_features': ['auto', 'sqrt','log2'],\n",
    "    'max_depth' : [8,9,10],\n",
    "    'criterion' :['gini', 'entropy','log_loss']\n",
    "}\n",
    "CVr = GridSearchCV(estimator=RandomForestClassifier(random_state=1), param_grid=param_grid, cv= 5)\n",
    "CVr.fit(x_train, y_train)\n",
    "\n",
    "CVr.best_params_"
   ]
  },
  {
   "cell_type": "code",
   "execution_count": 330,
   "metadata": {},
   "outputs": [],
   "source": [
    "model = RandomForestClassifier(random_state=1, n_estimators=200,max_features='sqrt',max_depth=9,criterion='gini')\n",
    "model.fit(x_train, y_train)\n",
    "predictions = model.predict(x_test)\n",
    "pred_df = pd.DataFrame(predictions, columns=['Survived'])\n",
    "prediction_df = pred_df.set_index(passengerID)\n",
    "prediction_df.to_csv('submission.csv',header=['Survived'])"
   ]
  },
  {
   "cell_type": "markdown",
   "metadata": {},
   "source": [
    "**Neural Network Model**"
   ]
  },
  {
   "cell_type": "code",
   "execution_count": 310,
   "metadata": {},
   "outputs": [],
   "source": [
    "neural = keras.Sequential()\n",
    "#neural.add(layers.Dense(32, activation='relu',activity_regularizer='l2',bias_regularizer='l2'))\n",
    "neural.add(layers.Dense(16, activation='relu'))\n",
    "neural.add(layers.Dropout(0.1))\n",
    "#neural.add(layers.Dense(64, activation='relu'))\n",
    "#neural.add(layers.Dropout(0.1))\n",
    "#neural.add(layers.Dense(128, activation='relu'))\n",
    "#neural.add(layers.Dense(64, activation='relu',bias_regularizer='l2'))\n",
    "#neural.add(layers.Dropout(0.2))\n",
    "#neural.add(layers.Dense(128, activation='relu',bias_regularizer='l2'))\n",
    "neural.add(layers.Dense(2,activation='softmax'))\n",
    "\n",
    "neural.compile(\n",
    "            optimizer = \"adam\",\n",
    "            loss = \"CategoricalCrossentropy\",\n",
    "            metrics=\"Accuracy\"\n",
    "        )"
   ]
  },
  {
   "cell_type": "code",
   "execution_count": 311,
   "metadata": {},
   "outputs": [
    {
     "name": "stdout",
     "output_type": "stream",
     "text": [
      "Epoch 1/50\n",
      "18/18 [==============================] - 1s 19ms/step - loss: 0.6690 - Accuracy: 0.5797 - val_loss: 0.6301 - val_Accuracy: 0.6853\n",
      "Epoch 2/50\n",
      "18/18 [==============================] - 0s 6ms/step - loss: 0.6498 - Accuracy: 0.6322 - val_loss: 0.6080 - val_Accuracy: 0.6783\n",
      "Epoch 3/50\n",
      "18/18 [==============================] - 0s 6ms/step - loss: 0.6394 - Accuracy: 0.6532 - val_loss: 0.5887 - val_Accuracy: 0.7063\n",
      "Epoch 4/50\n",
      "18/18 [==============================] - 0s 7ms/step - loss: 0.6196 - Accuracy: 0.6918 - val_loss: 0.5701 - val_Accuracy: 0.7063\n",
      "Epoch 5/50\n",
      "18/18 [==============================] - 0s 5ms/step - loss: 0.6020 - Accuracy: 0.6970 - val_loss: 0.5510 - val_Accuracy: 0.7483\n",
      "Epoch 6/50\n",
      "18/18 [==============================] - 0s 5ms/step - loss: 0.5836 - Accuracy: 0.7180 - val_loss: 0.5318 - val_Accuracy: 0.7832\n",
      "Epoch 7/50\n",
      "18/18 [==============================] - 0s 5ms/step - loss: 0.5707 - Accuracy: 0.7496 - val_loss: 0.5147 - val_Accuracy: 0.8042\n",
      "Epoch 8/50\n",
      "18/18 [==============================] - 0s 5ms/step - loss: 0.5596 - Accuracy: 0.7531 - val_loss: 0.5002 - val_Accuracy: 0.8112\n",
      "Epoch 9/50\n",
      "18/18 [==============================] - 0s 6ms/step - loss: 0.5544 - Accuracy: 0.7688 - val_loss: 0.4904 - val_Accuracy: 0.8112\n",
      "Epoch 10/50\n",
      "18/18 [==============================] - 0s 6ms/step - loss: 0.5490 - Accuracy: 0.7706 - val_loss: 0.4813 - val_Accuracy: 0.7972\n",
      "Epoch 11/50\n",
      "18/18 [==============================] - 0s 6ms/step - loss: 0.5278 - Accuracy: 0.7706 - val_loss: 0.4764 - val_Accuracy: 0.8042\n",
      "Epoch 12/50\n",
      "18/18 [==============================] - 0s 5ms/step - loss: 0.5328 - Accuracy: 0.7811 - val_loss: 0.4712 - val_Accuracy: 0.8042\n",
      "Epoch 13/50\n",
      "18/18 [==============================] - 0s 6ms/step - loss: 0.5192 - Accuracy: 0.7828 - val_loss: 0.4664 - val_Accuracy: 0.8042\n",
      "Epoch 14/50\n",
      "18/18 [==============================] - 0s 6ms/step - loss: 0.5265 - Accuracy: 0.7776 - val_loss: 0.4628 - val_Accuracy: 0.8042\n",
      "Epoch 15/50\n",
      "18/18 [==============================] - 0s 5ms/step - loss: 0.5175 - Accuracy: 0.7968 - val_loss: 0.4598 - val_Accuracy: 0.8042\n",
      "Epoch 16/50\n",
      "18/18 [==============================] - 0s 5ms/step - loss: 0.5178 - Accuracy: 0.7706 - val_loss: 0.4575 - val_Accuracy: 0.8042\n",
      "Epoch 17/50\n",
      "18/18 [==============================] - 0s 5ms/step - loss: 0.5084 - Accuracy: 0.7846 - val_loss: 0.4546 - val_Accuracy: 0.8042\n",
      "Epoch 18/50\n",
      "18/18 [==============================] - 0s 5ms/step - loss: 0.5057 - Accuracy: 0.7776 - val_loss: 0.4529 - val_Accuracy: 0.8112\n",
      "Epoch 19/50\n",
      "18/18 [==============================] - 0s 5ms/step - loss: 0.5094 - Accuracy: 0.7811 - val_loss: 0.4507 - val_Accuracy: 0.8112\n",
      "Epoch 20/50\n",
      "18/18 [==============================] - 0s 6ms/step - loss: 0.5110 - Accuracy: 0.7776 - val_loss: 0.4490 - val_Accuracy: 0.8112\n",
      "Epoch 21/50\n",
      "18/18 [==============================] - 0s 6ms/step - loss: 0.5048 - Accuracy: 0.7881 - val_loss: 0.4470 - val_Accuracy: 0.8112\n",
      "Epoch 22/50\n",
      "18/18 [==============================] - 0s 5ms/step - loss: 0.5015 - Accuracy: 0.7846 - val_loss: 0.4455 - val_Accuracy: 0.8112\n",
      "Epoch 23/50\n",
      "18/18 [==============================] - 0s 5ms/step - loss: 0.5047 - Accuracy: 0.7846 - val_loss: 0.4448 - val_Accuracy: 0.8112\n",
      "Epoch 24/50\n",
      "18/18 [==============================] - 0s 8ms/step - loss: 0.5030 - Accuracy: 0.7881 - val_loss: 0.4415 - val_Accuracy: 0.8112\n",
      "Epoch 25/50\n",
      "18/18 [==============================] - 0s 5ms/step - loss: 0.4929 - Accuracy: 0.7881 - val_loss: 0.4403 - val_Accuracy: 0.8112\n",
      "Epoch 26/50\n",
      "18/18 [==============================] - 0s 5ms/step - loss: 0.4937 - Accuracy: 0.7793 - val_loss: 0.4385 - val_Accuracy: 0.8112\n",
      "Epoch 27/50\n",
      "18/18 [==============================] - 0s 5ms/step - loss: 0.4973 - Accuracy: 0.7828 - val_loss: 0.4376 - val_Accuracy: 0.8182\n",
      "Epoch 28/50\n",
      "18/18 [==============================] - 0s 5ms/step - loss: 0.5011 - Accuracy: 0.7916 - val_loss: 0.4354 - val_Accuracy: 0.8182\n",
      "Epoch 29/50\n",
      "18/18 [==============================] - 0s 5ms/step - loss: 0.4920 - Accuracy: 0.7951 - val_loss: 0.4337 - val_Accuracy: 0.8182\n",
      "Epoch 30/50\n",
      "18/18 [==============================] - 0s 5ms/step - loss: 0.4989 - Accuracy: 0.7776 - val_loss: 0.4334 - val_Accuracy: 0.8112\n",
      "Epoch 31/50\n",
      "18/18 [==============================] - 0s 5ms/step - loss: 0.4941 - Accuracy: 0.7758 - val_loss: 0.4317 - val_Accuracy: 0.8182\n",
      "Epoch 32/50\n",
      "18/18 [==============================] - 0s 5ms/step - loss: 0.4928 - Accuracy: 0.7898 - val_loss: 0.4302 - val_Accuracy: 0.8182\n",
      "Epoch 33/50\n",
      "18/18 [==============================] - 0s 6ms/step - loss: 0.4916 - Accuracy: 0.7793 - val_loss: 0.4294 - val_Accuracy: 0.8182\n",
      "Epoch 34/50\n",
      "18/18 [==============================] - 0s 5ms/step - loss: 0.4910 - Accuracy: 0.7846 - val_loss: 0.4299 - val_Accuracy: 0.8182\n",
      "Epoch 35/50\n",
      "18/18 [==============================] - 0s 5ms/step - loss: 0.4889 - Accuracy: 0.7881 - val_loss: 0.4284 - val_Accuracy: 0.8182\n",
      "Epoch 36/50\n",
      "18/18 [==============================] - 0s 5ms/step - loss: 0.4786 - Accuracy: 0.7881 - val_loss: 0.4254 - val_Accuracy: 0.8182\n",
      "Epoch 37/50\n",
      "18/18 [==============================] - 0s 5ms/step - loss: 0.4805 - Accuracy: 0.7933 - val_loss: 0.4255 - val_Accuracy: 0.8182\n",
      "Epoch 38/50\n",
      "18/18 [==============================] - 0s 5ms/step - loss: 0.4878 - Accuracy: 0.7898 - val_loss: 0.4237 - val_Accuracy: 0.8182\n",
      "Epoch 39/50\n",
      "18/18 [==============================] - 0s 5ms/step - loss: 0.4888 - Accuracy: 0.7881 - val_loss: 0.4233 - val_Accuracy: 0.8182\n",
      "Epoch 40/50\n",
      "18/18 [==============================] - 0s 5ms/step - loss: 0.4873 - Accuracy: 0.7968 - val_loss: 0.4228 - val_Accuracy: 0.8182\n",
      "Epoch 41/50\n",
      "18/18 [==============================] - 0s 5ms/step - loss: 0.4897 - Accuracy: 0.7793 - val_loss: 0.4229 - val_Accuracy: 0.8182\n",
      "Epoch 42/50\n",
      "18/18 [==============================] - 0s 5ms/step - loss: 0.4820 - Accuracy: 0.7916 - val_loss: 0.4214 - val_Accuracy: 0.8182\n",
      "Epoch 43/50\n",
      "18/18 [==============================] - 0s 5ms/step - loss: 0.4848 - Accuracy: 0.7916 - val_loss: 0.4195 - val_Accuracy: 0.8182\n",
      "Epoch 44/50\n",
      "18/18 [==============================] - 0s 6ms/step - loss: 0.4885 - Accuracy: 0.7863 - val_loss: 0.4206 - val_Accuracy: 0.8182\n",
      "Epoch 45/50\n",
      "18/18 [==============================] - 0s 5ms/step - loss: 0.4774 - Accuracy: 0.7863 - val_loss: 0.4189 - val_Accuracy: 0.8182\n",
      "Epoch 46/50\n",
      "18/18 [==============================] - 0s 5ms/step - loss: 0.4700 - Accuracy: 0.7968 - val_loss: 0.4177 - val_Accuracy: 0.8182\n",
      "Epoch 47/50\n",
      "18/18 [==============================] - 0s 5ms/step - loss: 0.4677 - Accuracy: 0.7916 - val_loss: 0.4179 - val_Accuracy: 0.8182\n",
      "Epoch 48/50\n",
      "18/18 [==============================] - 0s 5ms/step - loss: 0.4749 - Accuracy: 0.7933 - val_loss: 0.4162 - val_Accuracy: 0.8182\n",
      "Epoch 49/50\n",
      "18/18 [==============================] - 0s 8ms/step - loss: 0.4674 - Accuracy: 0.7863 - val_loss: 0.4144 - val_Accuracy: 0.8182\n",
      "Epoch 50/50\n",
      "18/18 [==============================] - 0s 5ms/step - loss: 0.4744 - Accuracy: 0.7828 - val_loss: 0.4140 - val_Accuracy: 0.8182\n"
     ]
    },
    {
     "data": {
      "image/png": "[encoded data removed]",
      "text/plain": [
       "<Figure size 720x720 with 2 Axes>"
      ]
     },
     "metadata": {
      "needs_background": "light"
     },
     "output_type": "display_data"
    }
   ],
   "source": [
    "model = neural.fit(\n",
    "        x_train,\n",
    "        y_train,\n",
    "        batch_size=32,\n",
    "        epochs=50,\n",
    "        validation_split=0.2)\n",
    "\n",
    "dtf = pd.DataFrame(model.history)\n",
    "fig, (ax1, ax2) = plt.subplots(2, 1, figsize=(10,10))\n",
    "fig.suptitle('Model Evaluation')\n",
    "\n",
    "best_bacc =round(max(dtf.iloc[:,3]),4)\n",
    "\n",
    "ax1.plot(dtf.iloc[:,3],'bo--',label=f'Validation Balanced Accuracy - Best: {best_bacc}')\n",
    "ax1.plot(dtf.iloc[:,1],'ro--',label='Train Accuracy')\n",
    "ax1.legend()\n",
    "ax1.set_xlabel('Epochs')\n",
    "\n",
    "ax2.plot(dtf.iloc[:,2],'go--',label=f'Validation Loss')\n",
    "ax2.plot(dtf.iloc[:,0],'ro--',label=f'Train Loss')\n",
    "ax2.legend()\n",
    "ax2.set_xlabel('Epochs')\n",
    "\n",
    "plt.show()"
   ]
  },
  {
   "cell_type": "markdown",
   "metadata": {},
   "source": [
    "**Prediction for the Neural Network**"
   ]
  },
  {
   "cell_type": "code",
   "execution_count": 313,
   "metadata": {},
   "outputs": [
    {
     "name": "stdout",
     "output_type": "stream",
     "text": [
      "Pclass    0\n",
      "Sex       0\n",
      "Age       0\n",
      "SibSp     0\n",
      "Parch     0\n",
      "Fare      0\n",
      "dtype: int64\n",
      "\n",
      "\n",
      "Pclass\n",
      "Sex\n",
      "Age\n",
      "SibSp\n",
      "Parch\n",
      "Fare\n",
      "Number of Samples in x_test:  418\n",
      "14/14 [==============================] - 0s 6ms/step\n"
     ]
    }
   ],
   "source": [
    "\n",
    "y_test = neural.predict(x_test)\n",
    "\n",
    "survival = []\n",
    "for i in range(len(y_test[:,0])):\n",
    "    item = y_test[:,0][i]\n",
    "    if item >= 0.5:\n",
    "        survival.append(1)\n",
    "    else: survival.append(0)\n",
    "\n",
    "pred_df = pd.DataFrame(survival, columns=['Survived'])\n",
    "prediction_df = pred_df.set_index(passengerID)\n",
    "prediction_df.to_csv('submission.csv',header=['Survived'])"
   ]
  },
  {
   "cell_type": "markdown",
   "metadata": {},
   "source": [
    "Accuracy before scalling: 0.8252"
   ]
  },
  {
   "cell_type": "markdown",
   "metadata": {},
   "source": []
  }
 ],
 "metadata": {
  "kernelspec": {
   "display_name": "Python 3",
   "language": "python",
   "name": "python3"
  },
  "language_info": {
   "codemirror_mode": {
    "name": "ipython",
    "version": 3
   },
   "file_extension": ".py",
   "mimetype": "text/x-python",
   "name": "python",
   "nbconvert_exporter": "python",
   "pygments_lexer": "ipython3",
   "version": "3.9.7"
  }
 },
 "nbformat": 4,
 "nbformat_minor": 2
}
